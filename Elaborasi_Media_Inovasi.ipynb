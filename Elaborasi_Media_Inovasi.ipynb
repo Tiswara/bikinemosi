{
  "cells": [
    {
      "cell_type": "markdown",
      "metadata": {
        "id": "view-in-github",
        "colab_type": "text"
      },
      "source": [
        "<a href=\"https://colab.research.google.com/github/Tiswara/bikinemosi/blob/main/Elaborasi_Media_Inovasi.ipynb\" target=\"_parent\"><img src=\"https://colab.research.google.com/assets/colab-badge.svg\" alt=\"Open In Colab\"/></a>"
      ]
    },
    {
      "cell_type": "markdown",
      "source": [
        "# TECHNICAL TEST PYTHON\n",
        "Elaborasi Media Informasi\n",
        "\n",
        "Tiswara Adrianto (adriantotiswara@gmail.com)"
      ],
      "metadata": {
        "id": "4VHqzKdkRefo"
      }
    },
    {
      "cell_type": "markdown",
      "source": [
        "**1. Membuat bilangan fibonacci non rekursif**"
      ],
      "metadata": {
        "id": "NV_e3VdXR1pK"
      }
    },
    {
      "cell_type": "code",
      "source": [
        "def fib(n):\n",
        "    if n == 1:\n",
        "        return [0, 1]\n",
        "    if n == 2:\n",
        "        return [0, 1, 1]\n",
        "    fibs = [0, 1, 1]\n",
        "    for _ in range(2, n):\n",
        "        fibs.append(fibs[-1] + fibs[-2])\n",
        "    return fibs\n",
        "\n",
        "n = 1;\n",
        "while n < 10:\n",
        "  print(fib(n))\n",
        "  n+= 1;"
      ],
      "metadata": {
        "id": "Ac_HcFScR-VW",
        "outputId": "308f940d-188e-4070-9751-3b752a92bba9",
        "colab": {
          "base_uri": "https://localhost:8080/"
        }
      },
      "execution_count": null,
      "outputs": [
        {
          "output_type": "stream",
          "name": "stdout",
          "text": [
            "[0, 1]\n",
            "[0, 1, 1]\n",
            "[0, 1, 1, 2]\n",
            "[0, 1, 1, 2, 3]\n",
            "[0, 1, 1, 2, 3, 5]\n",
            "[0, 1, 1, 2, 3, 5, 8]\n",
            "[0, 1, 1, 2, 3, 5, 8, 13]\n",
            "[0, 1, 1, 2, 3, 5, 8, 13, 21]\n",
            "[0, 1, 1, 2, 3, 5, 8, 13, 21, 34]\n"
          ]
        }
      ]
    },
    {
      "cell_type": "markdown",
      "source": [
        "**2. Mencari nilai maksimum dan minimum dari data**"
      ],
      "metadata": {
        "id": "jd5sr5mcWm_y"
      }
    },
    {
      "cell_type": "code",
      "source": [
        "data = [2, 20, 25, -10, 78, 4, 0, -29, 21]\n",
        "print(\"Data yang diberikan: \" + str(data))\n",
        "print(\"Nilai maksimum data: \" + str(max(data)))\n",
        "print(\"Nilai minimum data: \" + str(min(data)))"
      ],
      "metadata": {
        "id": "QpwOyMSxWw2_",
        "outputId": "2bb9b9cd-bba2-4693-90a7-76f52023824e",
        "colab": {
          "base_uri": "https://localhost:8080/"
        }
      },
      "execution_count": null,
      "outputs": [
        {
          "output_type": "stream",
          "name": "stdout",
          "text": [
            "Data yang diberikan: [2, 20, 25, -10, 78, 4, 0, -29, 21]\n",
            "Nilai maksimum data: 78\n",
            "Nilai minimum data: -29\n"
          ]
        }
      ]
    },
    {
      "cell_type": "markdown",
      "source": [
        "**3. Membuat fungsi untuk menampilkan bilangan ganjil dan genap**"
      ],
      "metadata": {
        "id": "Fiy-7-cNYBFr"
      }
    },
    {
      "cell_type": "code",
      "source": [
        "def angka(n):\n",
        "  if n%2 == 1:\n",
        "    return str(n) + \" adalah angka ganjil\"\n",
        "  if n%2 == 0:\n",
        "    return str(n) + \" adalah angka genap\"\n",
        "\n",
        "n = input(\"Masukkan angka yang diinginkan: \")\n",
        "print(angka(int(n)))"
      ],
      "metadata": {
        "id": "1DiOUyicYLY2",
        "outputId": "dca71805-2614-485c-bc2f-bbfd68a18e02",
        "colab": {
          "base_uri": "https://localhost:8080/"
        }
      },
      "execution_count": null,
      "outputs": [
        {
          "output_type": "stream",
          "name": "stdout",
          "text": [
            "Masukkan angka yang diinginkan: 5\n",
            "5 adalah angka ganjil\n"
          ]
        }
      ]
    }
  ],
  "metadata": {
    "colab": {
      "name": "Elaborasi Media Inovasi.ipynb",
      "provenance": [],
      "collapsed_sections": [],
      "include_colab_link": true
    },
    "kernelspec": {
      "display_name": "Python 3",
      "name": "python3"
    }
  },
  "nbformat": 4,
  "nbformat_minor": 0
}